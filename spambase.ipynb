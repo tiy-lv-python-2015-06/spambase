{
 "cells": [
  {
   "cell_type": "code",
   "execution_count": 132,
   "metadata": {
    "collapsed": true
   },
   "outputs": [],
   "source": [
    "import pandas as pd\n",
    "import numpy as np\n",
    "import matplotlib as plot\n",
    "import sklearn.cross_validation\n",
    "%matplotlib inline\n",
    "import glob\n",
    "from sklearn.naive_bayes import MultinomialNB\n",
    "from sklearn.naive_bayes import GaussianNB\n",
    "from sklearn.naive_bayes import BernoulliNB\n"
   ]
  },
  {
   "cell_type": "code",
   "execution_count": 36,
   "metadata": {
    "collapsed": false
   },
   "outputs": [],
   "source": [
    "names =[\"word_freq_address\",\n",
    "\"word_freq_all\",\n",
    "\"word_freq_3d\",\n",
    "\"word_freq_our\",\n",
    "\"word_freq_over\",\n",
    "\"word_freq_remove\",\n",
    "\"word_freq_internet\",\n",
    "\"word_freq_order\",\n",
    "\"word_freq_mail\",\n",
    "\"word_freq_receive\",\n",
    "\"word_freq_will\",\n",
    "\"word_freq_people\",\n",
    "\"word_freq_report\",\n",
    "\"word_freq_addresses\",\n",
    "\"word_freq_free\",\n",
    "\"word_freq_business\",\n",
    "\"word_freq_email\",\n",
    "\"word_freq_you\",\n",
    "\"word_freq_credit\",\n",
    "\"word_freq_your\",\n",
    "\"word_freq_font\",\n",
    "\"word_freq_000\",\n",
    "\"word_freq_money\",\n",
    "\"word_freq_hp\",\n",
    "\"word_freq_hpl\",\n",
    "\"word_freq_george\",\n",
    "\"word_freq_650\",\n",
    "\"word_freq_lab\",\n",
    "\"word_freq_labs\",\n",
    "\"word_freq_telnet\",\n",
    "\"word_freq_857\",\n",
    "\"word_freq_data\",\n",
    "\"word_freq_415\",\n",
    "\"word_freq_85\",\n",
    "\"word_freq_technology\",\n",
    "\"word_freq_1999\",\n",
    "\"word_freq_parts\",\n",
    "\"word_freq_pm\",\n",
    "\"word_freq_direct\",\n",
    "\"word_freq_cs\",\n",
    "\"word_freq_meeting\",\n",
    "\"word_freq_original\",\n",
    "\"word_freq_project\",\n",
    "\"word_freq_re\",\n",
    "\"word_freq_edu\",\n",
    "\"word_freq_table\",\n",
    "\"word_freq_conference\",\n",
    "\"char_freq_;\",\n",
    "\"char_freq_(\",\n",
    "\"char_freq_[\",\n",
    "\"char_freq_!\",\n",
    "\"char_freq_$\",\n",
    "\"char_freq_#\",\n",
    "\"capital_run_length_average\",\n",
    "\"capital_run_length_longest\",\n",
    "\"capital_run_length_total\", 'SPAM']"
   ]
  },
  {
   "cell_type": "code",
   "execution_count": 37,
   "metadata": {
    "collapsed": false
   },
   "outputs": [],
   "source": [
    "file = pd.read_csv(\"spambase.data\", header=0, names = names)"
   ]
  },
  {
   "cell_type": "code",
   "execution_count": 46,
   "metadata": {
    "collapsed": true
   },
   "outputs": [
    {
     "data": {
      "text/plain": [
       "Index(['word_freq_address', 'word_freq_all', 'word_freq_3d', 'word_freq_our',\n",
       "       'word_freq_over', 'word_freq_remove', 'word_freq_internet',\n",
       "       'word_freq_order', 'word_freq_mail', 'word_freq_receive',\n",
       "       'word_freq_will', 'word_freq_people', 'word_freq_report',\n",
       "       'word_freq_addresses', 'word_freq_free', 'word_freq_business',\n",
       "       'word_freq_email', 'word_freq_you', 'word_freq_credit',\n",
       "       'word_freq_your', 'word_freq_font', 'word_freq_000', 'word_freq_money',\n",
       "       'word_freq_hp', 'word_freq_hpl', 'word_freq_george', 'word_freq_650',\n",
       "       'word_freq_lab', 'word_freq_labs', 'word_freq_telnet', 'word_freq_857',\n",
       "       'word_freq_data', 'word_freq_415', 'word_freq_85',\n",
       "       'word_freq_technology', 'word_freq_1999', 'word_freq_parts',\n",
       "       'word_freq_pm', 'word_freq_direct', 'word_freq_cs', 'word_freq_meeting',\n",
       "       'word_freq_original', 'word_freq_project', 'word_freq_re',\n",
       "       'word_freq_edu', 'word_freq_table', 'word_freq_conference',\n",
       "       'char_freq_;', 'char_freq_(', 'char_freq_[', 'char_freq_!',\n",
       "       'char_freq_$', 'char_freq_#', 'capital_run_length_average',\n",
       "       'capital_run_length_longest', 'capital_run_length_total'],\n",
       "      dtype='object')"
      ]
     },
     "execution_count": 46,
     "metadata": {},
     "output_type": "execute_result"
    }
   ],
   "source": [
    "#Remove \"Spam\" from feature list\n",
    "feature_list = file.columns\n",
    "feature_list.delete(-1)\n"
   ]
  },
  {
   "cell_type": "code",
   "execution_count": 71,
   "metadata": {
    "collapsed": false
   },
   "outputs": [],
   "source": [
    "# need to split the data into a 60,40 split\n",
    "train, test = sklearn.cross_validation.train_test_split(files, test_size=0.4, random_state=1)"
   ]
  },
  {
   "cell_type": "code",
   "execution_count": 84,
   "metadata": {
    "collapsed": false
   },
   "outputs": [
    {
     "data": {
      "text/html": [
       "<div style=\"max-height:1000px;max-width:1500px;overflow:auto;\">\n",
       "<table border=\"1\" class=\"dataframe\">\n",
       "  <thead>\n",
       "    <tr style=\"text-align: right;\">\n",
       "      <th></th>\n",
       "      <th>word_freq_address</th>\n",
       "      <th>word_freq_all</th>\n",
       "      <th>word_freq_3d</th>\n",
       "      <th>word_freq_our</th>\n",
       "      <th>word_freq_over</th>\n",
       "      <th>word_freq_remove</th>\n",
       "      <th>word_freq_internet</th>\n",
       "      <th>word_freq_order</th>\n",
       "      <th>word_freq_mail</th>\n",
       "      <th>word_freq_receive</th>\n",
       "      <th>...</th>\n",
       "      <th>char_freq_;</th>\n",
       "      <th>char_freq_(</th>\n",
       "      <th>char_freq_[</th>\n",
       "      <th>char_freq_!</th>\n",
       "      <th>char_freq_$</th>\n",
       "      <th>char_freq_#</th>\n",
       "      <th>capital_run_length_average</th>\n",
       "      <th>capital_run_length_longest</th>\n",
       "      <th>capital_run_length_total</th>\n",
       "      <th>SPAM</th>\n",
       "    </tr>\n",
       "  </thead>\n",
       "  <tbody>\n",
       "    <tr>\n",
       "      <th>0</th>\n",
       "      <td>0</td>\n",
       "      <td>0.94</td>\n",
       "      <td>0</td>\n",
       "      <td>0.94</td>\n",
       "      <td>0</td>\n",
       "      <td>0</td>\n",
       "      <td>0</td>\n",
       "      <td>0</td>\n",
       "      <td>0.00</td>\n",
       "      <td>0</td>\n",
       "      <td>...</td>\n",
       "      <td>0.000</td>\n",
       "      <td>0.17</td>\n",
       "      <td>0.000</td>\n",
       "      <td>3.571</td>\n",
       "      <td>0</td>\n",
       "      <td>0</td>\n",
       "      <td>1.300</td>\n",
       "      <td>7</td>\n",
       "      <td>52</td>\n",
       "      <td>1</td>\n",
       "    </tr>\n",
       "    <tr>\n",
       "      <th>0</th>\n",
       "      <td>0</td>\n",
       "      <td>0.00</td>\n",
       "      <td>0</td>\n",
       "      <td>0.00</td>\n",
       "      <td>0</td>\n",
       "      <td>0</td>\n",
       "      <td>0</td>\n",
       "      <td>0</td>\n",
       "      <td>1.22</td>\n",
       "      <td>0</td>\n",
       "      <td>...</td>\n",
       "      <td>0.095</td>\n",
       "      <td>0.38</td>\n",
       "      <td>0.190</td>\n",
       "      <td>0.190</td>\n",
       "      <td>0</td>\n",
       "      <td>0</td>\n",
       "      <td>1.857</td>\n",
       "      <td>12</td>\n",
       "      <td>104</td>\n",
       "      <td>0</td>\n",
       "    </tr>\n",
       "    <tr>\n",
       "      <th>0</th>\n",
       "      <td>0</td>\n",
       "      <td>1.88</td>\n",
       "      <td>0</td>\n",
       "      <td>0.94</td>\n",
       "      <td>0</td>\n",
       "      <td>0</td>\n",
       "      <td>0</td>\n",
       "      <td>0</td>\n",
       "      <td>0.00</td>\n",
       "      <td>0</td>\n",
       "      <td>...</td>\n",
       "      <td>0.000</td>\n",
       "      <td>0.00</td>\n",
       "      <td>0.000</td>\n",
       "      <td>0.756</td>\n",
       "      <td>0</td>\n",
       "      <td>0</td>\n",
       "      <td>1.000</td>\n",
       "      <td>1</td>\n",
       "      <td>22</td>\n",
       "      <td>0</td>\n",
       "    </tr>\n",
       "    <tr>\n",
       "      <th>0</th>\n",
       "      <td>0</td>\n",
       "      <td>0.00</td>\n",
       "      <td>0</td>\n",
       "      <td>0.00</td>\n",
       "      <td>0</td>\n",
       "      <td>0</td>\n",
       "      <td>0</td>\n",
       "      <td>0</td>\n",
       "      <td>0.00</td>\n",
       "      <td>0</td>\n",
       "      <td>...</td>\n",
       "      <td>0.000</td>\n",
       "      <td>0.00</td>\n",
       "      <td>0.000</td>\n",
       "      <td>0.872</td>\n",
       "      <td>0</td>\n",
       "      <td>0</td>\n",
       "      <td>2.200</td>\n",
       "      <td>5</td>\n",
       "      <td>11</td>\n",
       "      <td>1</td>\n",
       "    </tr>\n",
       "    <tr>\n",
       "      <th>0</th>\n",
       "      <td>0</td>\n",
       "      <td>0.00</td>\n",
       "      <td>0</td>\n",
       "      <td>0.00</td>\n",
       "      <td>0</td>\n",
       "      <td>0</td>\n",
       "      <td>0</td>\n",
       "      <td>0</td>\n",
       "      <td>0.00</td>\n",
       "      <td>0</td>\n",
       "      <td>...</td>\n",
       "      <td>0.343</td>\n",
       "      <td>0.00</td>\n",
       "      <td>0.171</td>\n",
       "      <td>0.000</td>\n",
       "      <td>0</td>\n",
       "      <td>0</td>\n",
       "      <td>1.725</td>\n",
       "      <td>13</td>\n",
       "      <td>69</td>\n",
       "      <td>0</td>\n",
       "    </tr>\n",
       "  </tbody>\n",
       "</table>\n",
       "<p>5 rows × 57 columns</p>\n",
       "</div>"
      ],
      "text/plain": [
       "   word_freq_address  word_freq_all  word_freq_3d  word_freq_our  \\\n",
       "0                  0           0.94             0           0.94   \n",
       "0                  0           0.00             0           0.00   \n",
       "0                  0           1.88             0           0.94   \n",
       "0                  0           0.00             0           0.00   \n",
       "0                  0           0.00             0           0.00   \n",
       "\n",
       "   word_freq_over  word_freq_remove  word_freq_internet  word_freq_order  \\\n",
       "0               0                 0                   0                0   \n",
       "0               0                 0                   0                0   \n",
       "0               0                 0                   0                0   \n",
       "0               0                 0                   0                0   \n",
       "0               0                 0                   0                0   \n",
       "\n",
       "   word_freq_mail  word_freq_receive  ...   char_freq_;  char_freq_(  \\\n",
       "0            0.00                  0  ...         0.000         0.17   \n",
       "0            1.22                  0  ...         0.095         0.38   \n",
       "0            0.00                  0  ...         0.000         0.00   \n",
       "0            0.00                  0  ...         0.000         0.00   \n",
       "0            0.00                  0  ...         0.343         0.00   \n",
       "\n",
       "   char_freq_[  char_freq_!  char_freq_$  char_freq_#  \\\n",
       "0        0.000        3.571            0            0   \n",
       "0        0.190        0.190            0            0   \n",
       "0        0.000        0.756            0            0   \n",
       "0        0.000        0.872            0            0   \n",
       "0        0.171        0.000            0            0   \n",
       "\n",
       "   capital_run_length_average  capital_run_length_longest  \\\n",
       "0                       1.300                           7   \n",
       "0                       1.857                          12   \n",
       "0                       1.000                           1   \n",
       "0                       2.200                           5   \n",
       "0                       1.725                          13   \n",
       "\n",
       "   capital_run_length_total  SPAM  \n",
       "0                        52     1  \n",
       "0                       104     0  \n",
       "0                        22     0  \n",
       "0                        11     1  \n",
       "0                        69     0  \n",
       "\n",
       "[5 rows x 57 columns]"
      ]
     },
     "execution_count": 84,
     "metadata": {},
     "output_type": "execute_result"
    }
   ],
   "source": [
    "# inplace = False creates a copy without the feature that I droppped. Gonna use that shit.\n",
    "train.drop('SPAM', 1, inplace=False)\n",
    "train.head()\n"
   ]
  },
  {
   "cell_type": "code",
   "execution_count": 117,
   "metadata": {
    "collapsed": false
   },
   "outputs": [],
   "source": [
    "#Make the x and Ys\n",
    "x_train = train.drop('SPAM', 1, inplace=False)\n",
    "y_train = train['SPAM']\n",
    "y_test = test['SPAM']\n",
    "x_test = test.drop('SPAM', 1, inplace=False)"
   ]
  },
  {
   "cell_type": "code",
   "execution_count": 118,
   "metadata": {
    "collapsed": false
   },
   "outputs": [],
   "source": [
    "classifier = MultinomialNB()"
   ]
  },
  {
   "cell_type": "code",
   "execution_count": 119,
   "metadata": {
    "collapsed": false
   },
   "outputs": [
    {
     "data": {
      "text/plain": [
       "MultinomialNB(alpha=1.0, class_prior=None, fit_prior=True)"
      ]
     },
     "execution_count": 119,
     "metadata": {},
     "output_type": "execute_result"
    }
   ],
   "source": [
    "classifier.fit(x_train, y_train)"
   ]
  },
  {
   "cell_type": "code",
   "execution_count": 120,
   "metadata": {
    "collapsed": false
   },
   "outputs": [
    {
     "data": {
      "text/plain": [
       "0.78514492753623188"
      ]
     },
     "execution_count": 120,
     "metadata": {},
     "output_type": "execute_result"
    }
   ],
   "source": [
    "classifier.score(x_train, y_train)"
   ]
  },
  {
   "cell_type": "code",
   "execution_count": 121,
   "metadata": {
    "collapsed": false
   },
   "outputs": [
    {
     "data": {
      "text/plain": [
       "0.79728260869565215"
      ]
     },
     "execution_count": 121,
     "metadata": {},
     "output_type": "execute_result"
    }
   ],
   "source": [
    "classifier.score(x_test, y_test)"
   ]
  },
  {
   "cell_type": "code",
   "execution_count": 128,
   "metadata": {
    "collapsed": true
   },
   "outputs": [],
   "source": [
    "classifier2 = GaussianNB()"
   ]
  },
  {
   "cell_type": "code",
   "execution_count": 130,
   "metadata": {
    "collapsed": false
   },
   "outputs": [
    {
     "data": {
      "text/plain": [
       "GaussianNB()"
      ]
     },
     "execution_count": 130,
     "metadata": {},
     "output_type": "execute_result"
    }
   ],
   "source": [
    "classifier2.fit(x_train, y_train)"
   ]
  },
  {
   "cell_type": "code",
   "execution_count": 131,
   "metadata": {
    "collapsed": false
   },
   "outputs": [
    {
     "data": {
      "text/plain": [
       "0.82173913043478264"
      ]
     },
     "execution_count": 131,
     "metadata": {},
     "output_type": "execute_result"
    }
   ],
   "source": [
    "classifier2.score(x_test, y_test)"
   ]
  },
  {
   "cell_type": "code",
   "execution_count": 133,
   "metadata": {
    "collapsed": true
   },
   "outputs": [],
   "source": [
    "classifier3 = BernoulliNB()"
   ]
  },
  {
   "cell_type": "code",
   "execution_count": 134,
   "metadata": {
    "collapsed": false
   },
   "outputs": [
    {
     "data": {
      "text/plain": [
       "BernoulliNB(alpha=1.0, binarize=0.0, class_prior=None, fit_prior=True)"
      ]
     },
     "execution_count": 134,
     "metadata": {},
     "output_type": "execute_result"
    }
   ],
   "source": [
    "classifier3.fit(x_train, y_Train)"
   ]
  },
  {
   "cell_type": "code",
   "execution_count": 135,
   "metadata": {
    "collapsed": false
   },
   "outputs": [
    {
     "data": {
      "text/plain": [
       "0.88550724637681155"
      ]
     },
     "execution_count": 135,
     "metadata": {},
     "output_type": "execute_result"
    }
   ],
   "source": [
    "classifier3.score(x_train,y_train)"
   ]
  },
  {
   "cell_type": "code",
   "execution_count": null,
   "metadata": {
    "collapsed": true
   },
   "outputs": [],
   "source": []
  }
 ],
 "metadata": {
  "kernelspec": {
   "display_name": "Python 3",
   "language": "python",
   "name": "python3"
  },
  "language_info": {
   "codemirror_mode": {
    "name": "ipython",
    "version": 3
   },
   "file_extension": ".py",
   "mimetype": "text/x-python",
   "name": "python",
   "nbconvert_exporter": "python",
   "pygments_lexer": "ipython3",
   "version": "3.4.3"
  }
 },
 "nbformat": 4,
 "nbformat_minor": 0
}
